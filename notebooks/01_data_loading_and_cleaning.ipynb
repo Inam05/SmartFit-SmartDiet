{
 "cells": [
  {
   "cell_type": "markdown",
   "id": "bec3caa0",
   "metadata": {},
   "source": [
    "# PAMAP2: data loading and cleaning\n"
   ]
  },
  {
   "cell_type": "markdown",
   "id": "fddc37b8",
   "metadata": {},
   "source": [
    "### Imports"
   ]
  },
  {
   "cell_type": "code",
   "execution_count": null,
   "id": "40e54b14",
   "metadata": {},
   "outputs": [],
   "source": [
    "import os\n",
    "import glob\n",
    "import numpy as np\n",
    "import pandas as pd\n"
   ]
  },
  {
   "cell_type": "markdown",
   "id": "dcd77759",
   "metadata": {},
   "source": [
    "### Paths"
   ]
  },
  {
   "cell_type": "code",
   "execution_count": null,
   "id": "04eb8edc",
   "metadata": {},
   "outputs": [],
   "source": [
    "# Adjust base_path to match your machine\n",
    "base_path = r\"D:\\Projects\\SmartFit-SmartDiet\\data\\raw\"\n",
    "\n",
    "protocol_path = os.path.join(base_path, \"Protocol\")\n",
    "optional_path = os.path.join(base_path, \"Optional\")\n",
    "\n",
    "print(\"Protocol path:\", protocol_path)\n",
    "print(\"Optional path:\", optional_path)\n"
   ]
  },
  {
   "cell_type": "markdown",
   "id": "a1c004fe",
   "metadata": {},
   "source": [
    "### Find all .dat files"
   ]
  },
  {
   "cell_type": "code",
   "execution_count": null,
   "id": "833577a5",
   "metadata": {},
   "outputs": [],
   "source": [
    "# Search for .dat files recursively (covers subfolders)\n",
    "protocol_files = sorted(glob.glob(os.path.join(protocol_path, \"**\", \"*.dat\"), recursive=True))\n",
    "optional_files = sorted(glob.glob(os.path.join(optional_path, \"**\", \"*.dat\"), recursive=True))\n",
    "\n",
    "print(f\"Protocol files: {len(protocol_files)}\")\n",
    "print(f\"Optional files: {len(optional_files)}\")\n",
    "\n",
    "# Quick check\n",
    "if protocol_files:\n",
    "    print(\"Sample Protocol file:\", protocol_files[0])\n",
    "if optional_files:\n",
    "    print(\"Sample Optional file:\", optional_files[0])\n"
   ]
  },
  {
   "cell_type": "markdown",
   "id": "859e558a",
   "metadata": {},
   "source": [
    "### Define column names"
   ]
  },
  {
   "cell_type": "code",
   "execution_count": null,
   "id": "dc0d070a",
   "metadata": {},
   "outputs": [],
   "source": [
    "columns = [\n",
    "    \"timestamp\", \"activity_id\", \"heart_rate\",\n",
    "    \"hand_acc_16g_x\", \"hand_acc_16g_y\", \"hand_acc_16g_z\",\n",
    "    \"hand_acc_6g_x\", \"hand_acc_6g_y\", \"hand_acc_6g_z\",\n",
    "    \"hand_gyro_x\", \"hand_gyro_y\", \"hand_gyro_z\",\n",
    "    \"hand_mag_x\", \"hand_mag_y\", \"hand_mag_z\",\n",
    "    \"hand_temp\",\n",
    "    \"chest_acc_16g_x\", \"chest_acc_16g_y\", \"chest_acc_16g_z\",\n",
    "    \"chest_acc_6g_x\", \"chest_acc_6g_y\", \"chest_acc_6g_z\",\n",
    "    \"chest_gyro_x\", \"chest_gyro_y\", \"chest_gyro_z\",\n",
    "    \"chest_mag_x\", \"chest_mag_y\", \"chest_mag_z\",\n",
    "    \"chest_temp\",\n",
    "    \"ankle_acc_16g_x\", \"ankle_acc_16g_y\", \"ankle_acc_16g_z\",\n",
    "    \"ankle_acc_6g_x\", \"ankle_acc_6g_y\", \"ankle_acc_6g_z\",\n",
    "    \"ankle_gyro_x\", \"ankle_gyro_y\", \"ankle_gyro_z\",\n",
    "    \"ankle_mag_x\", \"ankle_mag_y\", \"ankle_mag_z\",\n",
    "    \"ankle_temp\"\n",
    "]\n",
    "# PAMAP2 files have 54 columns; adding 2 more for missing ones if needed\n",
    "while len(columns) < 54:\n",
    "    columns.append(f\"extra_col_{len(columns)+1}\")\n"
   ]
  },
  {
   "cell_type": "markdown",
   "id": "31585b19",
   "metadata": {},
   "source": [
    "### Function to read a file"
   ]
  },
  {
   "cell_type": "code",
   "execution_count": null,
   "id": "ebe96be5",
   "metadata": {},
   "outputs": [],
   "source": [
    "def read_pamap_file(filepath, columns):\n",
    "    df = pd.read_csv(filepath, sep=\" \", header=None, names=columns, comment=None)\n",
    "    # Drop empty unnamed columns from multiple spaces\n",
    "    df = df.dropna(axis=1, how=\"all\")\n",
    "    return df\n"
   ]
  },
  {
   "cell_type": "markdown",
   "id": "4f9f38ac",
   "metadata": {},
   "source": [
    "### Load all Protocol files"
   ]
  },
  {
   "cell_type": "code",
   "execution_count": null,
   "id": "e6b88d73",
   "metadata": {},
   "outputs": [],
   "source": [
    "protocol_dfs = []\n",
    "for f in protocol_files:\n",
    "    df = read_pamap_file(f, columns)\n",
    "    protocol_dfs.append(df)\n",
    "\n",
    "df_protocol = pd.concat(protocol_dfs, ignore_index=True) if protocol_dfs else pd.DataFrame()\n",
    "print(\"Protocol rows:\", len(df_protocol))\n"
   ]
  },
  {
   "cell_type": "markdown",
   "id": "2be04dec",
   "metadata": {},
   "source": [
    "### Load all Optional files"
   ]
  },
  {
   "cell_type": "code",
   "execution_count": null,
   "id": "32b04a1c",
   "metadata": {},
   "outputs": [],
   "source": [
    "optional_dfs = []\n",
    "for f in optional_files:\n",
    "    df = read_pamap_file(f, columns)\n",
    "    optional_dfs.append(df)\n",
    "\n",
    "df_optional = pd.concat(optional_dfs, ignore_index=True) if optional_dfs else pd.DataFrame()\n",
    "print(\"Optional rows:\", len(df_optional))\n"
   ]
  },
  {
   "cell_type": "markdown",
   "id": "94994ddf",
   "metadata": {},
   "source": [
    "### Combine data"
   ]
  },
  {
   "cell_type": "code",
   "execution_count": null,
   "id": "f5511c1d",
   "metadata": {},
   "outputs": [],
   "source": [
    "df_combined = pd.concat([df_protocol, df_optional], ignore_index=True)\n",
    "print(\"Combined rows:\", len(df_combined), \"columns:\", df_combined.shape[1])\n"
   ]
  },
  {
   "cell_type": "markdown",
   "id": "5a8d7d19",
   "metadata": {},
   "source": [
    "### Quick Clean"
   ]
  },
  {
   "cell_type": "code",
   "execution_count": null,
   "id": "e1117a79",
   "metadata": {},
   "outputs": [],
   "source": [
    "# Remove rows with NaN activity IDs\n",
    "df_combined = df_combined.dropna(subset=[\"activity_id\"])\n",
    "\n",
    "# Reset index\n",
    "df_combined.reset_index(drop=True, inplace=True)\n",
    "\n",
    "print(\"After cleaning:\", df_combined.shape)\n",
    "df_combined.head()\n"
   ]
  },
  {
   "cell_type": "markdown",
   "id": "c7f9a6fb",
   "metadata": {},
   "source": [
    "### Replace missing values, drop NaNs, and store in df_clean"
   ]
  },
  {
   "cell_type": "code",
   "execution_count": null,
   "id": "f6d5aa72",
   "metadata": {},
   "outputs": [],
   "source": [
    "df_clean = df_combined.dropna().reset_index(drop=True)"
   ]
  },
  {
   "cell_type": "markdown",
   "id": "75aa5553",
   "metadata": {},
   "source": [
    "### Save cleaned dataset"
   ]
  },
  {
   "cell_type": "code",
   "execution_count": null,
   "id": "71b6510b",
   "metadata": {},
   "outputs": [],
   "source": [
    "output_path = \"..SmartFit-SmartDiet/data/processed/pamap2_clean.csv\"\n",
    "os.makedirs(os.path.dirname(output_path), exist_ok=True)\n",
    "df_clean.to_csv(output_path, index=False)\n",
    "\n",
    "print(f\"Cleaned dataset saved to {output_path}\")\n",
    "print(df_clean.shape) "
   ]
  }
 ],
 "metadata": {
  "kernelspec": {
   "display_name": "Python 3",
   "language": "python",
   "name": "python3"
  },
  "language_info": {
   "codemirror_mode": {
    "name": "ipython",
    "version": 3
   },
   "file_extension": ".py",
   "mimetype": "text/x-python",
   "name": "python",
   "nbconvert_exporter": "python",
   "pygments_lexer": "ipython3",
   "version": "3.13.5"
  }
 },
 "nbformat": 4,
 "nbformat_minor": 5
}
