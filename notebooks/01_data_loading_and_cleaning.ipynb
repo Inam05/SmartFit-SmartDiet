{
 "cells": [
  {
   "cell_type": "markdown",
   "id": "bec3caa0",
   "metadata": {},
   "source": [
    "# PAMAP2: data loading and cleaning\n"
   ]
  },
  {
   "cell_type": "code",
   "execution_count": 1,
   "id": "40e54b14",
   "metadata": {},
   "outputs": [],
   "source": [
    "import os\n",
    "import glob\n",
    "import pandas as pd\n",
    "import numpy as np\n",
    "from pathlib import Path\n"
   ]
  },
  {
   "cell_type": "code",
   "execution_count": 2,
   "id": "a85e74d0",
   "metadata": {},
   "outputs": [],
   "source": [
    "# Column names from PAMAP2 README (54 columns)\n",
    "columns = [\n",
    "    \"timestamp\", \"activity_id\", \"heart_rate\",\n",
    "    # hand IMU 17 cols\n",
    "    \"hand_temp\", \"hand_acc16_x\", \"hand_acc16_y\", \"hand_acc16_z\",\n",
    "    \"hand_acc6_x\", \"hand_acc6_y\", \"hand_acc6_z\",\n",
    "    \"hand_gyro_x\", \"hand_gyro_y\", \"hand_gyro_z\",\n",
    "    \"hand_mag_x\", \"hand_mag_y\", \"hand_mag_z\",\n",
    "    \"hand_ori_w\", \"hand_ori_x\", \"hand_ori_y\", \"hand_ori_z\",\n",
    "    # chest IMU 17 cols\n",
    "    \"chest_temp\", \"chest_acc16_x\", \"chest_acc16_y\", \"chest_acc16_z\",\n",
    "    \"chest_acc6_x\", \"chest_acc6_y\", \"chest_acc6_z\",\n",
    "    \"chest_gyro_x\", \"chest_gyro_y\", \"chest_gyro_z\",\n",
    "    \"chest_mag_x\", \"chest_mag_y\", \"chest_mag_z\",\n",
    "    \"chest_ori_w\", \"chest_ori_x\", \"chest_ori_y\", \"chest_ori_z\",\n",
    "    # ankle IMU 17 cols\n",
    "    \"ankle_temp\", \"ankle_acc16_x\", \"ankle_acc16_y\", \"ankle_acc16_z\",\n",
    "    \"ankle_acc6_x\", \"ankle_acc6_y\", \"ankle_acc6_z\",\n",
    "    \"ankle_gyro_x\", \"ankle_gyro_y\", \"ankle_gyro_z\",\n",
    "    \"ankle_mag_x\", \"ankle_mag_y\", \"ankle_mag_z\",\n",
    "    \"ankle_ori_w\", \"ankle_ori_x\", \"ankle_ori_y\", \"ankle_ori_z\"\n",
    "]\n",
    "\n",
    "activity_map = {\n",
    "    1: \"lying\", 2: \"sitting\", 3: \"standing\", 4: \"walking\", 5: \"running\",\n",
    "    6: \"cycling\", 7: \"nordic_walking\", 9: \"watching_tv\", 10: \"computer_work\",\n",
    "    11: \"car_driving\", 12: \"ascending_stairs\", 13: \"descending_stairs\",\n",
    "    16: \"vacuum_cleaning\", 17: \"ironing\", 18: \"folding_laundry\",\n",
    "    19: \"house_cleaning\", 20: \"playing_soccer\", 24: \"rope_jumping\"\n",
    "}\n"
   ]
  },
  {
   "cell_type": "code",
   "execution_count": 3,
   "id": "da9ceaac",
   "metadata": {},
   "outputs": [],
   "source": [
    "def read_pamap_file(path, columns):\n",
    "    # Use regex whitespace separator to avoid problems with variable spacing\n",
    "    try:\n",
    "        df = pd.read_csv(path, sep=r'\\s+', header=None, names=columns, engine='python')\n",
    "    except Exception as e:\n",
    "        # fallback: try delim_whitespace\n",
    "        df = pd.read_csv(path, delim_whitespace=True, header=None, names=columns, engine='python')\n",
    "    return df\n"
   ]
  },
  {
   "cell_type": "code",
   "execution_count": 4,
   "id": "13bb657f",
   "metadata": {},
   "outputs": [],
   "source": [
    "def timestamp_to_datetime(ts_series):\n",
    "    # ts_series may be seconds, milliseconds, or seconds since start.\n",
    "    maxv = ts_series.abs().max()\n",
    "    if pd.isna(maxv):\n",
    "        return pd.to_datetime(ts_series, unit='s', errors='coerce')\n",
    "    # epoch milliseconds if value large\n",
    "    if maxv > 1e12:\n",
    "        return pd.to_datetime(ts_series, unit='ms', errors='coerce')\n",
    "    # epoch seconds\n",
    "    if maxv > 1e9:\n",
    "        return pd.to_datetime(ts_series, unit='s', errors='coerce')\n",
    "    # likely relative seconds; convert to timedelta from a fake epoch\n",
    "    return pd.to_datetime(ts_series, unit='s', errors='coerce')\n"
   ]
  },
  {
   "cell_type": "code",
   "execution_count": 5,
   "id": "1af38a47",
   "metadata": {},
   "outputs": [
    {
     "ename": "IndexError",
     "evalue": "list index out of range",
     "output_type": "error",
     "traceback": [
      "\u001b[31m---------------------------------------------------------------------------\u001b[39m",
      "\u001b[31mIndexError\u001b[39m                                Traceback (most recent call last)",
      "\u001b[36mCell\u001b[39m\u001b[36m \u001b[39m\u001b[32mIn[5]\u001b[39m\u001b[32m, line 1\u001b[39m\n\u001b[32m----> \u001b[39m\u001b[32m1\u001b[39m sample_file = \u001b[38;5;28;43msorted\u001b[39;49m\u001b[43m(\u001b[49m\u001b[43mglob\u001b[49m\u001b[43m.\u001b[49m\u001b[43mglob\u001b[49m\u001b[43m(\u001b[49m\u001b[33;43m\"\u001b[39;49m\u001b[33;43mdata/raw/Protocol/*.dat\u001b[39;49m\u001b[33;43m\"\u001b[39;49m\u001b[43m)\u001b[49m\u001b[43m)\u001b[49m\u001b[43m[\u001b[49m\u001b[32;43m0\u001b[39;49m\u001b[43m]\u001b[49m\n\u001b[32m      2\u001b[39m \u001b[38;5;28mprint\u001b[39m(\u001b[33m\"\u001b[39m\u001b[33mSample file:\u001b[39m\u001b[33m\"\u001b[39m, sample_file)\n\u001b[32m      3\u001b[39m df_sample = read_pamap_file(sample_file, columns)\n",
      "\u001b[31mIndexError\u001b[39m: list index out of range"
     ]
    }
   ],
   "source": [
    "sample_file = sorted(glob.glob(\"data/raw/Protocol/*.dat\"))[0]\n",
    "print(\"Sample file:\", sample_file)\n",
    "df_sample = read_pamap_file(sample_file, columns)\n",
    "print(\"shape:\", df_sample.shape)\n",
    "display(df_sample.head())\n",
    "print(\"timestamp max:\", df_sample['timestamp'].max())\n"
   ]
  },
  {
   "cell_type": "code",
   "execution_count": null,
   "id": "00a8705a",
   "metadata": {},
   "outputs": [],
   "source": []
  }
 ],
 "metadata": {
  "kernelspec": {
   "display_name": "Python 3",
   "language": "python",
   "name": "python3"
  },
  "language_info": {
   "codemirror_mode": {
    "name": "ipython",
    "version": 3
   },
   "file_extension": ".py",
   "mimetype": "text/x-python",
   "name": "python",
   "nbconvert_exporter": "python",
   "pygments_lexer": "ipython3",
   "version": "3.13.5"
  }
 },
 "nbformat": 4,
 "nbformat_minor": 5
}
