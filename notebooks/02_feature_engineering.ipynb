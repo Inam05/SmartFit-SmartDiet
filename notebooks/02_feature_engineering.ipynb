{
 "cells": [
  {
   "cell_type": "markdown",
   "id": "5e67d45b",
   "metadata": {},
   "source": [
    "# PAMAP2 Feature Engineering"
   ]
  },
  {
   "cell_type": "markdown",
   "id": "b1a8ac80",
   "metadata": {},
   "source": [
    "### Imports"
   ]
  },
  {
   "cell_type": "code",
   "execution_count": null,
   "id": "b2befb19",
   "metadata": {},
   "outputs": [],
   "source": [
    "import pandas as pd\n",
    "import numpy as np\n",
    "from pathlib import Path\n",
    "from scipy.stats import kurtosis, skew\n",
    "from scipy.signal import welch\n"
   ]
  },
  {
   "cell_type": "markdown",
   "id": "960bd883",
   "metadata": {},
   "source": [
    "### Load cleaned dataset"
   ]
  },
  {
   "cell_type": "code",
   "execution_count": null,
   "id": "a00c8c21",
   "metadata": {},
   "outputs": [],
   "source": [
    "data_path = r\"D:\\Projects\\SmartFit-SmartDiet\\data\\processed\\pamap2_clean.csv\"\n",
    "df = pd.read_csv(data_path)\n",
    "df['datetime'] = pd.to_datetime(df['timestamp'], unit='s', errors='coerce')\n",
    "print(df.shape)\n",
    "df.head()"
   ]
  },
  {
   "cell_type": "markdown",
   "id": "eeaf60c7",
   "metadata": {},
   "source": [
    "### Define windowing parameters"
   ]
  },
  {
   "cell_type": "code",
   "execution_count": null,
   "id": "e74329d5",
   "metadata": {},
   "outputs": [],
   "source": [
    "# PAMAP2 raw data has 100Hz sampling frequency (approx)\n",
    "# Let's pick 5-second windows = 500 samples per window\n",
    "WINDOW_SIZE = 5  # seconds\n",
    "SAMPLE_FREQ = 100  # Hz\n",
    "SAMPLES_PER_WINDOW = WINDOW_SIZE * SAMPLE_FREQ\n"
   ]
  },
  {
   "cell_type": "markdown",
   "id": "12efa596",
   "metadata": {},
   "source": [
    "### Prepare dataframe for windowing"
   ]
  },
  {
   "cell_type": "code",
   "execution_count": null,
   "id": "42b333ea",
   "metadata": {},
   "outputs": [],
   "source": [
    "# Sort data properly\n",
    "df.sort_values(by=['subject_id', 'session_type', 'datetime'], inplace=True)\n",
    "\n",
    "# Reset index for clean iteration\n",
    "df.reset_index(drop=True, inplace=True)\n"
   ]
  },
  {
   "cell_type": "markdown",
   "id": "ef36c3a6",
   "metadata": {},
   "source": [
    "### Feature extraction function (per window)"
   ]
  },
  {
   "cell_type": "code",
   "execution_count": null,
   "id": "7c6afaa8",
   "metadata": {},
   "outputs": [],
   "source": [
    "def extract_features(window_df):\n",
    "    features = {}\n",
    "    numeric_cols = window_df.select_dtypes(include=np.number).columns.drop(['activity_id', 'subject_id'])\n",
    "    \n",
    "    for col in numeric_cols:\n",
    "        data = window_df[col].values\n",
    "        \n",
    "        # Basic stats\n",
    "        features[f'{col}_mean'] = np.mean(data)\n",
    "        features[f'{col}_std'] = np.std(data)\n",
    "        features[f'{col}_min'] = np.min(data)\n",
    "        features[f'{col}_max'] = np.max(data)\n",
    "        features[f'{col}_median'] = np.median(data)\n",
    "        features[f'{col}_kurtosis'] = kurtosis(data)\n",
    "        features[f'{col}_skew'] = skew(data)\n",
    "        \n",
    "        # Frequency domain: signal energy (sum of squares)\n",
    "        features[f'{col}_energy'] = np.sum(data**2) / len(data)\n",
    "        \n",
    "        # Optional: dominant frequency using Welch PSD estimate\n",
    "        try:\n",
    "            freqs, psd = welch(data, fs=SAMPLE_FREQ)\n",
    "            features[f'{col}_dom_freq'] = freqs[np.argmax(psd)]\n",
    "        except:\n",
    "            features[f'{col}_dom_freq'] = np.nan\n",
    "\n",
    "    # Activity label mode (most frequent activity_id in window)\n",
    "    features['activity_id'] = window_df['activity_id'].mode()[0]\n",
    "    features['subject_id'] = window_df['subject_id'].iloc[0]\n",
    "    features['session_type'] = window_df['session_type'].iloc[0]\n",
    "    \n",
    "    # Start and end timestamp of window\n",
    "    features['window_start'] = window_df['datetime'].iloc[0]\n",
    "    features['window_end'] = window_df['datetime'].iloc[-1]\n",
    "    \n",
    "    return features\n"
   ]
  },
  {
   "cell_type": "markdown",
   "id": "3405cb61",
   "metadata": {},
   "source": [
    "### Apply windowing and extract features"
   ]
  },
  {
   "cell_type": "code",
   "execution_count": null,
   "id": "51059649",
   "metadata": {},
   "outputs": [],
   "source": [
    "windowed_features = []\n",
    "\n",
    "# We’ll group by subject and session type to avoid mixing sessions\n",
    "for (subj, session), group in df.groupby(['subject_id', 'session_type']):\n",
    "    group = group.reset_index(drop=True)\n",
    "    n_windows = len(group) // SAMPLES_PER_WINDOW\n",
    "    \n",
    "    for w in range(n_windows):\n",
    "        start_idx = w * SAMPLES_PER_WINDOW\n",
    "        end_idx = start_idx + SAMPLES_PER_WINDOW\n",
    "        window_df = group.iloc[start_idx:end_idx]\n",
    "        if len(window_df) == SAMPLES_PER_WINDOW:\n",
    "            feat = extract_features(window_df)\n",
    "            windowed_features.append(feat)\n",
    "\n",
    "features_df = pd.DataFrame(windowed_features)\n",
    "print(\"Feature matrix shape:\", features_df.shape)\n",
    "features_df.head()\n"
   ]
  },
  {
   "cell_type": "markdown",
   "id": "f94af57d",
   "metadata": {},
   "source": [
    "### Map activity_id to activity name"
   ]
  },
  {
   "cell_type": "code",
   "execution_count": null,
   "id": "37d8183e",
   "metadata": {},
   "outputs": [],
   "source": [
    "activity_map = {\n",
    "    1: \"lying\", 2: \"sitting\", 3: \"standing\", 4: \"walking\", 5: \"running\",\n",
    "    6: \"cycling\", 7: \"nordic_walking\", 9: \"watching_tv\", 10: \"computer_work\",\n",
    "    11: \"car_driving\", 12: \"ascending_stairs\", 13: \"descending_stairs\",\n",
    "    16: \"vacuum_cleaning\", 17: \"ironing\", 18: \"folding_laundry\",\n",
    "    19: \"house_cleaning\", 20: \"playing_soccer\", 24: \"rope_jumping\"\n",
    "}\n",
    "\n",
    "features_df['activity'] = features_df['activity_id'].map(activity_map)\n",
    "features_df.drop(columns=['activity_id'], inplace=True)\n"
   ]
  },
  {
   "cell_type": "markdown",
   "id": "8b3fd2ca",
   "metadata": {},
   "source": [
    "### Save feature dataframe"
   ]
  },
  {
   "cell_type": "code",
   "execution_count": null,
   "id": "e595489a",
   "metadata": {},
   "outputs": [],
   "source": [
    "out_path = Path(\"D:\\Projects\\SmartFit-SmartDiet\\data\\processed\\pamap2_features.csv\")\n",
    "features_df.to_csv(out_path, index=False)\n",
    "print(\"Features saved to\", out_path)\n"
   ]
  },
  {
   "cell_type": "code",
   "execution_count": null,
   "id": "01066452",
   "metadata": {},
   "outputs": [],
   "source": []
  }
 ],
 "metadata": {
  "kernelspec": {
   "display_name": "Python 3",
   "language": "python",
   "name": "python3"
  },
  "language_info": {
   "codemirror_mode": {
    "name": "ipython",
    "version": 3
   },
   "file_extension": ".py",
   "mimetype": "text/x-python",
   "name": "python",
   "nbconvert_exporter": "python",
   "pygments_lexer": "ipython3",
   "version": "3.13.5"
  }
 },
 "nbformat": 4,
 "nbformat_minor": 5
}
